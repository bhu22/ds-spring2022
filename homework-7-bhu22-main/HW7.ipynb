{
 "cells": [
  {
   "cell_type": "code",
   "execution_count": 1,
   "metadata": {},
   "outputs": [],
   "source": [
    "import numpy as np\n",
    "from scipy import stats as st\n",
    "import pandas as pd\n",
    "import seaborn as sns\n",
    "import matplotlib.pyplot as plt"
   ]
  },
  {
   "cell_type": "markdown",
   "metadata": {},
   "source": [
    "# Question 0"
   ]
  },
  {
   "cell_type": "code",
   "execution_count": 4,
   "metadata": {},
   "outputs": [],
   "source": [
    "def lincoef(X,Y):\n",
    "    if len(X) != len(Y):\n",
    "        print ('Please Enter X and Y again')\n",
    "    \n",
    "    X_mean = np.mean(X)\n",
    "    Y_mean = np.mean(Y)\n",
    "    sum = 0\n",
    "    for i in range(len(X)):\n",
    "        sum += ((X[i]-X_mean)* (Y[i]-Y_mean))\n",
    "    \n",
    "    cov = sum/(len(X)) \n",
    "    cor = cov/ (np.std(X) * np.std(Y))\n",
    "    beta1 = cor * np.std(Y) / np.std(X)\n",
    "    beta0 = Y_mean - X_mean * beta1\n",
    "    \n",
    "    return beta0, beta1"
   ]
  },
  {
   "cell_type": "code",
   "execution_count": 6,
   "metadata": {},
   "outputs": [
    {
     "name": "stdout",
     "output_type": "stream",
     "text": [
      "1.5\n",
      "0.09999999999999999\n"
     ]
    }
   ],
   "source": [
    "X = [1, 2, 3, 4, 5, 6, 7, 8, 9]\n",
    "Y = [1, 2, 3, 1, 2, 3, 1, 2, 3]\n",
    "beta0, beta1 = lincoef(X,Y)\n",
    "print(beta0)\n",
    "print(beta1)"
   ]
  },
  {
   "cell_type": "code",
   "execution_count": 14,
   "metadata": {
    "scrolled": true
   },
   "outputs": [
    {
     "name": "stdout",
     "output_type": "stream",
     "text": [
      "LinregressResult(slope=0.1, intercept=1.5, rvalue=0.31622776601683794, pvalue=0.4070838220655887, stderr=0.11338934190276817)\n",
      "beta0 from prewritten functions is  1.5\n",
      "beta1 from prewritten functions is  0.1\n"
     ]
    }
   ],
   "source": [
    "print(st.linregress(x=X, y=Y))\n",
    "print('beta0 from prewritten functions is ',st.linregress(x=X, y=Y)[1])\n",
    "print('beta1 from prewritten functions is ',st.linregress(x=X, y=Y)[0])"
   ]
  },
  {
   "cell_type": "markdown",
   "metadata": {},
   "source": [
    "# Question 1"
   ]
  },
  {
   "cell_type": "code",
   "execution_count": 15,
   "metadata": {},
   "outputs": [
    {
     "data": {
      "text/html": [
       "<div>\n",
       "<style scoped>\n",
       "    .dataframe tbody tr th:only-of-type {\n",
       "        vertical-align: middle;\n",
       "    }\n",
       "\n",
       "    .dataframe tbody tr th {\n",
       "        vertical-align: top;\n",
       "    }\n",
       "\n",
       "    .dataframe thead th {\n",
       "        text-align: right;\n",
       "    }\n",
       "</style>\n",
       "<table border=\"1\" class=\"dataframe\">\n",
       "  <thead>\n",
       "    <tr style=\"text-align: right;\">\n",
       "      <th></th>\n",
       "      <th>rawid</th>\n",
       "      <th>roi</th>\n",
       "      <th>volume</th>\n",
       "      <th>min</th>\n",
       "      <th>max</th>\n",
       "      <th>mean</th>\n",
       "      <th>std</th>\n",
       "      <th>type</th>\n",
       "      <th>level</th>\n",
       "      <th>id</th>\n",
       "      <th>icv</th>\n",
       "      <th>tbv</th>\n",
       "    </tr>\n",
       "  </thead>\n",
       "  <tbody>\n",
       "    <tr>\n",
       "      <td>0</td>\n",
       "      <td>kirby127a_3_1_ax.img</td>\n",
       "      <td>Telencephalon_L</td>\n",
       "      <td>531111</td>\n",
       "      <td>0.0</td>\n",
       "      <td>374.0</td>\n",
       "      <td>128.3013</td>\n",
       "      <td>51.8593</td>\n",
       "      <td>1</td>\n",
       "      <td>1</td>\n",
       "      <td>127</td>\n",
       "      <td>1378295</td>\n",
       "      <td>1268519</td>\n",
       "    </tr>\n",
       "    <tr>\n",
       "      <td>1</td>\n",
       "      <td>kirby127a_3_1_ax.img</td>\n",
       "      <td>Telencephalon_R</td>\n",
       "      <td>543404</td>\n",
       "      <td>0.0</td>\n",
       "      <td>300.0</td>\n",
       "      <td>135.0683</td>\n",
       "      <td>53.6471</td>\n",
       "      <td>1</td>\n",
       "      <td>1</td>\n",
       "      <td>127</td>\n",
       "      <td>1378295</td>\n",
       "      <td>1268519</td>\n",
       "    </tr>\n",
       "    <tr>\n",
       "      <td>2</td>\n",
       "      <td>kirby127a_3_1_ax.img</td>\n",
       "      <td>Diencephalon_L</td>\n",
       "      <td>9683</td>\n",
       "      <td>15.0</td>\n",
       "      <td>295.0</td>\n",
       "      <td>193.5488</td>\n",
       "      <td>32.2733</td>\n",
       "      <td>1</td>\n",
       "      <td>1</td>\n",
       "      <td>127</td>\n",
       "      <td>1378295</td>\n",
       "      <td>1268519</td>\n",
       "    </tr>\n",
       "    <tr>\n",
       "      <td>3</td>\n",
       "      <td>kirby127a_3_1_ax.img</td>\n",
       "      <td>Diencephalon_R</td>\n",
       "      <td>9678</td>\n",
       "      <td>10.0</td>\n",
       "      <td>335.0</td>\n",
       "      <td>193.7051</td>\n",
       "      <td>32.7869</td>\n",
       "      <td>1</td>\n",
       "      <td>1</td>\n",
       "      <td>127</td>\n",
       "      <td>1378295</td>\n",
       "      <td>1268519</td>\n",
       "    </tr>\n",
       "    <tr>\n",
       "      <td>4</td>\n",
       "      <td>kirby127a_3_1_ax.img</td>\n",
       "      <td>Mesencephalon</td>\n",
       "      <td>10268</td>\n",
       "      <td>55.0</td>\n",
       "      <td>307.0</td>\n",
       "      <td>230.8583</td>\n",
       "      <td>29.2249</td>\n",
       "      <td>1</td>\n",
       "      <td>1</td>\n",
       "      <td>127</td>\n",
       "      <td>1378295</td>\n",
       "      <td>1268519</td>\n",
       "    </tr>\n",
       "  </tbody>\n",
       "</table>\n",
       "</div>"
      ],
      "text/plain": [
       "                  rawid              roi  volume   min    max      mean  \\\n",
       "0  kirby127a_3_1_ax.img  Telencephalon_L  531111   0.0  374.0  128.3013   \n",
       "1  kirby127a_3_1_ax.img  Telencephalon_R  543404   0.0  300.0  135.0683   \n",
       "2  kirby127a_3_1_ax.img   Diencephalon_L    9683  15.0  295.0  193.5488   \n",
       "3  kirby127a_3_1_ax.img   Diencephalon_R    9678  10.0  335.0  193.7051   \n",
       "4  kirby127a_3_1_ax.img    Mesencephalon   10268  55.0  307.0  230.8583   \n",
       "\n",
       "       std  type  level   id      icv      tbv  \n",
       "0  51.8593     1      1  127  1378295  1268519  \n",
       "1  53.6471     1      1  127  1378295  1268519  \n",
       "2  32.2733     1      1  127  1378295  1268519  \n",
       "3  32.7869     1      1  127  1378295  1268519  \n",
       "4  29.2249     1      1  127  1378295  1268519  "
      ]
     },
     "execution_count": 15,
     "metadata": {},
     "output_type": "execute_result"
    }
   ],
   "source": [
    "df = pd.read_csv('https://raw.githubusercontent.com/smart-stats/ds4bio_book/main/book/assetts/kirby21AllLevels.csv')\n",
    "df= df.drop(['Unnamed: 0'],axis =1)\n",
    "df.head()"
   ]
  },
  {
   "cell_type": "code",
   "execution_count": 16,
   "metadata": {},
   "outputs": [
    {
     "data": {
      "text/html": [
       "<div>\n",
       "<style scoped>\n",
       "    .dataframe tbody tr th:only-of-type {\n",
       "        vertical-align: middle;\n",
       "    }\n",
       "\n",
       "    .dataframe tbody tr th {\n",
       "        vertical-align: top;\n",
       "    }\n",
       "\n",
       "    .dataframe thead th {\n",
       "        text-align: right;\n",
       "    }\n",
       "</style>\n",
       "<table border=\"1\" class=\"dataframe\">\n",
       "  <thead>\n",
       "    <tr style=\"text-align: right;\">\n",
       "      <th></th>\n",
       "      <th>rawid</th>\n",
       "      <th>roi</th>\n",
       "      <th>volume</th>\n",
       "      <th>min</th>\n",
       "      <th>max</th>\n",
       "      <th>mean</th>\n",
       "      <th>std</th>\n",
       "      <th>type</th>\n",
       "      <th>level</th>\n",
       "      <th>id</th>\n",
       "      <th>icv</th>\n",
       "      <th>tbv</th>\n",
       "    </tr>\n",
       "  </thead>\n",
       "  <tbody>\n",
       "    <tr>\n",
       "      <td>0</td>\n",
       "      <td>kirby127a_3_1_ax.img</td>\n",
       "      <td>Telencephalon_L</td>\n",
       "      <td>531111</td>\n",
       "      <td>0.0</td>\n",
       "      <td>374.0</td>\n",
       "      <td>128.3013</td>\n",
       "      <td>51.8593</td>\n",
       "      <td>1</td>\n",
       "      <td>1</td>\n",
       "      <td>127</td>\n",
       "      <td>1378295</td>\n",
       "      <td>1268519</td>\n",
       "    </tr>\n",
       "    <tr>\n",
       "      <td>1</td>\n",
       "      <td>kirby127a_3_1_ax.img</td>\n",
       "      <td>Telencephalon_R</td>\n",
       "      <td>543404</td>\n",
       "      <td>0.0</td>\n",
       "      <td>300.0</td>\n",
       "      <td>135.0683</td>\n",
       "      <td>53.6471</td>\n",
       "      <td>1</td>\n",
       "      <td>1</td>\n",
       "      <td>127</td>\n",
       "      <td>1378295</td>\n",
       "      <td>1268519</td>\n",
       "    </tr>\n",
       "    <tr>\n",
       "      <td>836</td>\n",
       "      <td>kirby142a_3_1_ax.img</td>\n",
       "      <td>Telencephalon_L</td>\n",
       "      <td>545603</td>\n",
       "      <td>1.0</td>\n",
       "      <td>378.0</td>\n",
       "      <td>148.7835</td>\n",
       "      <td>56.9909</td>\n",
       "      <td>1</td>\n",
       "      <td>1</td>\n",
       "      <td>142</td>\n",
       "      <td>1404611</td>\n",
       "      <td>1297277</td>\n",
       "    </tr>\n",
       "    <tr>\n",
       "      <td>837</td>\n",
       "      <td>kirby142a_3_1_ax.img</td>\n",
       "      <td>Telencephalon_R</td>\n",
       "      <td>552216</td>\n",
       "      <td>0.0</td>\n",
       "      <td>376.0</td>\n",
       "      <td>156.1920</td>\n",
       "      <td>58.5402</td>\n",
       "      <td>1</td>\n",
       "      <td>1</td>\n",
       "      <td>142</td>\n",
       "      <td>1404611</td>\n",
       "      <td>1297277</td>\n",
       "    </tr>\n",
       "    <tr>\n",
       "      <td>1672</td>\n",
       "      <td>kirby239a_3_1_ax.img</td>\n",
       "      <td>Telencephalon_L</td>\n",
       "      <td>483107</td>\n",
       "      <td>0.0</td>\n",
       "      <td>507.0</td>\n",
       "      <td>145.7248</td>\n",
       "      <td>57.8707</td>\n",
       "      <td>1</td>\n",
       "      <td>1</td>\n",
       "      <td>239</td>\n",
       "      <td>1223704</td>\n",
       "      <td>1129450</td>\n",
       "    </tr>\n",
       "  </tbody>\n",
       "</table>\n",
       "</div>"
      ],
      "text/plain": [
       "                     rawid              roi  volume  min    max      mean  \\\n",
       "0     kirby127a_3_1_ax.img  Telencephalon_L  531111  0.0  374.0  128.3013   \n",
       "1     kirby127a_3_1_ax.img  Telencephalon_R  543404  0.0  300.0  135.0683   \n",
       "836   kirby142a_3_1_ax.img  Telencephalon_L  545603  1.0  378.0  148.7835   \n",
       "837   kirby142a_3_1_ax.img  Telencephalon_R  552216  0.0  376.0  156.1920   \n",
       "1672  kirby239a_3_1_ax.img  Telencephalon_L  483107  0.0  507.0  145.7248   \n",
       "\n",
       "          std  type  level   id      icv      tbv  \n",
       "0     51.8593     1      1  127  1378295  1268519  \n",
       "1     53.6471     1      1  127  1378295  1268519  \n",
       "836   56.9909     1      1  142  1404611  1297277  \n",
       "837   58.5402     1      1  142  1404611  1297277  \n",
       "1672  57.8707     1      1  239  1223704  1129450  "
      ]
     },
     "execution_count": 16,
     "metadata": {},
     "output_type": "execute_result"
    }
   ],
   "source": [
    "df1 = df.loc[df['roi'].isin(['Telencephalon_L', 'Telencephalon_R'])]\n",
    "df1.head()"
   ]
  },
  {
   "cell_type": "code",
   "execution_count": 17,
   "metadata": {},
   "outputs": [
    {
     "data": {
      "text/html": [
       "<div>\n",
       "<style scoped>\n",
       "    .dataframe tbody tr th:only-of-type {\n",
       "        vertical-align: middle;\n",
       "    }\n",
       "\n",
       "    .dataframe tbody tr th {\n",
       "        vertical-align: top;\n",
       "    }\n",
       "\n",
       "    .dataframe thead th {\n",
       "        text-align: right;\n",
       "    }\n",
       "</style>\n",
       "<table border=\"1\" class=\"dataframe\">\n",
       "  <thead>\n",
       "    <tr style=\"text-align: right;\">\n",
       "      <th></th>\n",
       "      <th>rawid</th>\n",
       "      <th>roi</th>\n",
       "      <th>volume</th>\n",
       "      <th>min</th>\n",
       "      <th>max</th>\n",
       "      <th>mean</th>\n",
       "      <th>std</th>\n",
       "      <th>type</th>\n",
       "      <th>level</th>\n",
       "      <th>id</th>\n",
       "      <th>icv</th>\n",
       "      <th>tbv</th>\n",
       "    </tr>\n",
       "  </thead>\n",
       "  <tbody>\n",
       "    <tr>\n",
       "      <td>0</td>\n",
       "      <td>kirby127a_3_1_ax.img</td>\n",
       "      <td>Telencephalon_L</td>\n",
       "      <td>531111</td>\n",
       "      <td>0.0</td>\n",
       "      <td>374.0</td>\n",
       "      <td>128.3013</td>\n",
       "      <td>51.8593</td>\n",
       "      <td>1</td>\n",
       "      <td>1</td>\n",
       "      <td>127</td>\n",
       "      <td>1378295</td>\n",
       "      <td>1268519</td>\n",
       "    </tr>\n",
       "    <tr>\n",
       "      <td>1</td>\n",
       "      <td>kirby142a_3_1_ax.img</td>\n",
       "      <td>Telencephalon_L</td>\n",
       "      <td>545603</td>\n",
       "      <td>1.0</td>\n",
       "      <td>378.0</td>\n",
       "      <td>148.7835</td>\n",
       "      <td>56.9909</td>\n",
       "      <td>1</td>\n",
       "      <td>1</td>\n",
       "      <td>142</td>\n",
       "      <td>1404611</td>\n",
       "      <td>1297277</td>\n",
       "    </tr>\n",
       "    <tr>\n",
       "      <td>2</td>\n",
       "      <td>kirby239a_3_1_ax.img</td>\n",
       "      <td>Telencephalon_L</td>\n",
       "      <td>483107</td>\n",
       "      <td>0.0</td>\n",
       "      <td>507.0</td>\n",
       "      <td>145.7248</td>\n",
       "      <td>57.8707</td>\n",
       "      <td>1</td>\n",
       "      <td>1</td>\n",
       "      <td>239</td>\n",
       "      <td>1223704</td>\n",
       "      <td>1129450</td>\n",
       "    </tr>\n",
       "    <tr>\n",
       "      <td>3</td>\n",
       "      <td>kirby346a_3_1_ax.img</td>\n",
       "      <td>Telencephalon_L</td>\n",
       "      <td>558849</td>\n",
       "      <td>2.0</td>\n",
       "      <td>390.0</td>\n",
       "      <td>158.8349</td>\n",
       "      <td>60.3935</td>\n",
       "      <td>1</td>\n",
       "      <td>1</td>\n",
       "      <td>346</td>\n",
       "      <td>1361902</td>\n",
       "      <td>1294746</td>\n",
       "    </tr>\n",
       "    <tr>\n",
       "      <td>4</td>\n",
       "      <td>kirby422a_3_1_ax.img</td>\n",
       "      <td>Telencephalon_L</td>\n",
       "      <td>509945</td>\n",
       "      <td>0.0</td>\n",
       "      <td>407.0</td>\n",
       "      <td>145.6388</td>\n",
       "      <td>53.1165</td>\n",
       "      <td>1</td>\n",
       "      <td>1</td>\n",
       "      <td>422</td>\n",
       "      <td>1335701</td>\n",
       "      <td>1225587</td>\n",
       "    </tr>\n",
       "  </tbody>\n",
       "</table>\n",
       "</div>"
      ],
      "text/plain": [
       "                  rawid              roi  volume  min    max      mean  \\\n",
       "0  kirby127a_3_1_ax.img  Telencephalon_L  531111  0.0  374.0  128.3013   \n",
       "1  kirby142a_3_1_ax.img  Telencephalon_L  545603  1.0  378.0  148.7835   \n",
       "2  kirby239a_3_1_ax.img  Telencephalon_L  483107  0.0  507.0  145.7248   \n",
       "3  kirby346a_3_1_ax.img  Telencephalon_L  558849  2.0  390.0  158.8349   \n",
       "4  kirby422a_3_1_ax.img  Telencephalon_L  509945  0.0  407.0  145.6388   \n",
       "\n",
       "       std  type  level   id      icv      tbv  \n",
       "0  51.8593     1      1  127  1378295  1268519  \n",
       "1  56.9909     1      1  142  1404611  1297277  \n",
       "2  57.8707     1      1  239  1223704  1129450  \n",
       "3  60.3935     1      1  346  1361902  1294746  \n",
       "4  53.1165     1      1  422  1335701  1225587  "
      ]
     },
     "execution_count": 17,
     "metadata": {},
     "output_type": "execute_result"
    }
   ],
   "source": [
    "df_tl = df.loc[df['roi']=='Telencephalon_L'].reset_index(drop=True)\n",
    "df_tl.head()"
   ]
  },
  {
   "cell_type": "code",
   "execution_count": 18,
   "metadata": {},
   "outputs": [
    {
     "data": {
      "text/html": [
       "<div>\n",
       "<style scoped>\n",
       "    .dataframe tbody tr th:only-of-type {\n",
       "        vertical-align: middle;\n",
       "    }\n",
       "\n",
       "    .dataframe tbody tr th {\n",
       "        vertical-align: top;\n",
       "    }\n",
       "\n",
       "    .dataframe thead th {\n",
       "        text-align: right;\n",
       "    }\n",
       "</style>\n",
       "<table border=\"1\" class=\"dataframe\">\n",
       "  <thead>\n",
       "    <tr style=\"text-align: right;\">\n",
       "      <th></th>\n",
       "      <th>rawid</th>\n",
       "      <th>roi</th>\n",
       "      <th>volume</th>\n",
       "      <th>min</th>\n",
       "      <th>max</th>\n",
       "      <th>mean</th>\n",
       "      <th>std</th>\n",
       "      <th>type</th>\n",
       "      <th>level</th>\n",
       "      <th>id</th>\n",
       "      <th>icv</th>\n",
       "      <th>tbv</th>\n",
       "    </tr>\n",
       "  </thead>\n",
       "  <tbody>\n",
       "    <tr>\n",
       "      <td>0</td>\n",
       "      <td>kirby127a_3_1_ax.img</td>\n",
       "      <td>Telencephalon_R</td>\n",
       "      <td>543404</td>\n",
       "      <td>0.0</td>\n",
       "      <td>300.0</td>\n",
       "      <td>135.0683</td>\n",
       "      <td>53.6471</td>\n",
       "      <td>1</td>\n",
       "      <td>1</td>\n",
       "      <td>127</td>\n",
       "      <td>1378295</td>\n",
       "      <td>1268519</td>\n",
       "    </tr>\n",
       "    <tr>\n",
       "      <td>1</td>\n",
       "      <td>kirby142a_3_1_ax.img</td>\n",
       "      <td>Telencephalon_R</td>\n",
       "      <td>552216</td>\n",
       "      <td>0.0</td>\n",
       "      <td>376.0</td>\n",
       "      <td>156.1920</td>\n",
       "      <td>58.5402</td>\n",
       "      <td>1</td>\n",
       "      <td>1</td>\n",
       "      <td>142</td>\n",
       "      <td>1404611</td>\n",
       "      <td>1297277</td>\n",
       "    </tr>\n",
       "    <tr>\n",
       "      <td>2</td>\n",
       "      <td>kirby239a_3_1_ax.img</td>\n",
       "      <td>Telencephalon_R</td>\n",
       "      <td>490805</td>\n",
       "      <td>0.0</td>\n",
       "      <td>371.0</td>\n",
       "      <td>153.9713</td>\n",
       "      <td>59.8162</td>\n",
       "      <td>1</td>\n",
       "      <td>1</td>\n",
       "      <td>239</td>\n",
       "      <td>1223704</td>\n",
       "      <td>1129450</td>\n",
       "    </tr>\n",
       "    <tr>\n",
       "      <td>3</td>\n",
       "      <td>kirby346a_3_1_ax.img</td>\n",
       "      <td>Telencephalon_R</td>\n",
       "      <td>568830</td>\n",
       "      <td>1.0</td>\n",
       "      <td>422.0</td>\n",
       "      <td>163.1182</td>\n",
       "      <td>61.0589</td>\n",
       "      <td>1</td>\n",
       "      <td>1</td>\n",
       "      <td>346</td>\n",
       "      <td>1361902</td>\n",
       "      <td>1294746</td>\n",
       "    </tr>\n",
       "    <tr>\n",
       "      <td>4</td>\n",
       "      <td>kirby422a_3_1_ax.img</td>\n",
       "      <td>Telencephalon_R</td>\n",
       "      <td>518902</td>\n",
       "      <td>1.0</td>\n",
       "      <td>355.0</td>\n",
       "      <td>149.1124</td>\n",
       "      <td>55.2450</td>\n",
       "      <td>1</td>\n",
       "      <td>1</td>\n",
       "      <td>422</td>\n",
       "      <td>1335701</td>\n",
       "      <td>1225587</td>\n",
       "    </tr>\n",
       "  </tbody>\n",
       "</table>\n",
       "</div>"
      ],
      "text/plain": [
       "                  rawid              roi  volume  min    max      mean  \\\n",
       "0  kirby127a_3_1_ax.img  Telencephalon_R  543404  0.0  300.0  135.0683   \n",
       "1  kirby142a_3_1_ax.img  Telencephalon_R  552216  0.0  376.0  156.1920   \n",
       "2  kirby239a_3_1_ax.img  Telencephalon_R  490805  0.0  371.0  153.9713   \n",
       "3  kirby346a_3_1_ax.img  Telencephalon_R  568830  1.0  422.0  163.1182   \n",
       "4  kirby422a_3_1_ax.img  Telencephalon_R  518902  1.0  355.0  149.1124   \n",
       "\n",
       "       std  type  level   id      icv      tbv  \n",
       "0  53.6471     1      1  127  1378295  1268519  \n",
       "1  58.5402     1      1  142  1404611  1297277  \n",
       "2  59.8162     1      1  239  1223704  1129450  \n",
       "3  61.0589     1      1  346  1361902  1294746  \n",
       "4  55.2450     1      1  422  1335701  1225587  "
      ]
     },
     "execution_count": 18,
     "metadata": {},
     "output_type": "execute_result"
    }
   ],
   "source": [
    "df_tr = df.loc[df['roi']=='Telencephalon_R'].reset_index(drop=True)\n",
    "df_tr.head()"
   ]
  },
  {
   "cell_type": "code",
   "execution_count": 19,
   "metadata": {},
   "outputs": [
    {
     "name": "stdout",
     "output_type": "stream",
     "text": [
      "[-13875.944799423742, 1.044241539832241]\n"
     ]
    },
    {
     "data": {
      "text/plain": [
       "Text(0, 0.5, 'Right Telencephalon Volume')"
      ]
     },
     "execution_count": 19,
     "metadata": {},
     "output_type": "execute_result"
    },
    {
     "data": {
      "image/png": "[encoded data removed]",
      "text/plain": [
       "<Figure size 432x288 with 1 Axes>"
      ]
     },
     "metadata": {
      "needs_background": "light"
     },
     "output_type": "display_data"
    }
   ],
   "source": [
    "# Left Telencephalon Volume: Predictor, Right Telencephalon Volume: Outcome\n",
    "x = df_tl['volume']\n",
    "y = df_tr['volume']\n",
    "beta1 = st.pearsonr(x, y)[0] * np.std(y) / np.std(x)\n",
    "beta0 = np.mean(y) - np.mean(x) * beta1\n",
    "print([beta0, beta1])\n",
    "\n",
    "sns.scatterplot(x, y)\n",
    "sns.lineplot(x, beta0 + beta1 * x)\n",
    "plt.xlabel('Left Telencephalon Volume')\n",
    "plt.ylabel('Right Telencephalon Volume')"
   ]
  },
  {
   "cell_type": "code",
   "execution_count": 20,
   "metadata": {},
   "outputs": [
    {
     "name": "stdout",
     "output_type": "stream",
     "text": [
      "[17150.431045804115, 0.9500552111008128]\n"
     ]
    },
    {
     "data": {
      "text/plain": [
       "Text(0, 0.5, 'Left Telencephalon Volume')"
      ]
     },
     "execution_count": 20,
     "metadata": {},
     "output_type": "execute_result"
    },
    {
     "data": {
      "image/png": "[encoded data removed]",
      "text/plain": [
       "<Figure size 432x288 with 1 Axes>"
      ]
     },
     "metadata": {
      "needs_background": "light"
     },
     "output_type": "display_data"
    }
   ],
   "source": [
    "# Reverse Predictor and Response Relationship\n",
    "x = df_tr['volume']\n",
    "y = df_tl['volume']\n",
    "beta1 = st.pearsonr(x, y)[0] * np.std(y) / np.std(x)\n",
    "beta0 = np.mean(y) - np.mean(x) * beta1\n",
    "print([beta0, beta1])\n",
    "\n",
    "sns.scatterplot(x, y)\n",
    "sns.lineplot(x, beta0 + beta1 * x)\n",
    "plt.xlabel('Right Telencephalon Volume')\n",
    "plt.ylabel('Left Telencephalon Volume')"
   ]
  },
  {
   "cell_type": "markdown",
   "metadata": {},
   "source": [
    "# Question 2"
   ]
  },
  {
   "cell_type": "markdown",
   "metadata": {},
   "source": [
    "Since c is a positive constant, the estimate of B will be $ \\frac{1}{c} $ times smaller than its original estimate. "
   ]
  },
  {
   "cell_type": "markdown",
   "metadata": {},
   "source": [
    "# Question 3"
   ]
  },
  {
   "cell_type": "code",
   "execution_count": 21,
   "metadata": {},
   "outputs": [
    {
     "name": "stdout",
     "output_type": "stream",
     "text": [
      "The mean of group 0 if X=0 is: 6.333333333333333\n",
      "The mean of group 1 if X=1 is: 5.0\n"
     ]
    }
   ],
   "source": [
    "data = {'Xi':[0, 1, 1, 0, 0, 1, 0, 1, 0, 0],\n",
    "       'Yi':[10, 2, 3, 1, 4, 6, 3, 9, 8, 12]}\n",
    "df3 = pd.DataFrame(data)\n",
    "group0 = df3.loc[df3['Xi']==0]['Yi']\n",
    "group1 = df3.loc[df3['Xi']==1]['Yi']\n",
    "print('The mean of group 0 if X=0 is:', np.mean(group0))\n",
    "print('The mean of group 1 if X=1 is:', np.mean(group1))"
   ]
  },
  {
   "cell_type": "code",
   "execution_count": 22,
   "metadata": {},
   "outputs": [
    {
     "name": "stdout",
     "output_type": "stream",
     "text": [
      "The mean of group 0 if X=0 is: 6.333333333333333\n",
      "The mean of group 1 if X=1 is: 5.0\n"
     ]
    }
   ],
   "source": [
    "x3 = df3['Xi']\n",
    "y3 = df3['Yi']\n",
    "beta1 = st.pearsonr(x3, y3)[0] * np.std(y3) / np.std(x3)\n",
    "beta0 = np.mean(y3) - np.mean(x3) * beta1\n",
    "df3 = df3.assign(yhat = beta0 + beta1* df3['Xi'])\n",
    "print('The mean of group 0 if X=0 is:', np.mean(df3.loc[df3['Xi']==0]['yhat']))\n",
    "print('The mean of group 1 if X=1 is:', np.mean(df3.loc[df3['Xi']==1]['yhat']))"
   ]
  },
  {
   "cell_type": "code",
   "execution_count": 23,
   "metadata": {},
   "outputs": [
    {
     "data": {
      "text/html": [
       "<div>\n",
       "<style scoped>\n",
       "    .dataframe tbody tr th:only-of-type {\n",
       "        vertical-align: middle;\n",
       "    }\n",
       "\n",
       "    .dataframe tbody tr th {\n",
       "        vertical-align: top;\n",
       "    }\n",
       "\n",
       "    .dataframe thead th {\n",
       "        text-align: right;\n",
       "    }\n",
       "</style>\n",
       "<table border=\"1\" class=\"dataframe\">\n",
       "  <thead>\n",
       "    <tr style=\"text-align: right;\">\n",
       "      <th></th>\n",
       "      <th>Xi</th>\n",
       "      <th>Yi</th>\n",
       "      <th>yhat</th>\n",
       "    </tr>\n",
       "  </thead>\n",
       "  <tbody>\n",
       "    <tr>\n",
       "      <td>0</td>\n",
       "      <td>0</td>\n",
       "      <td>10</td>\n",
       "      <td>6.333333</td>\n",
       "    </tr>\n",
       "    <tr>\n",
       "      <td>1</td>\n",
       "      <td>1</td>\n",
       "      <td>2</td>\n",
       "      <td>5.000000</td>\n",
       "    </tr>\n",
       "    <tr>\n",
       "      <td>2</td>\n",
       "      <td>1</td>\n",
       "      <td>3</td>\n",
       "      <td>5.000000</td>\n",
       "    </tr>\n",
       "    <tr>\n",
       "      <td>3</td>\n",
       "      <td>0</td>\n",
       "      <td>1</td>\n",
       "      <td>6.333333</td>\n",
       "    </tr>\n",
       "    <tr>\n",
       "      <td>4</td>\n",
       "      <td>0</td>\n",
       "      <td>4</td>\n",
       "      <td>6.333333</td>\n",
       "    </tr>\n",
       "    <tr>\n",
       "      <td>5</td>\n",
       "      <td>1</td>\n",
       "      <td>6</td>\n",
       "      <td>5.000000</td>\n",
       "    </tr>\n",
       "    <tr>\n",
       "      <td>6</td>\n",
       "      <td>0</td>\n",
       "      <td>3</td>\n",
       "      <td>6.333333</td>\n",
       "    </tr>\n",
       "    <tr>\n",
       "      <td>7</td>\n",
       "      <td>1</td>\n",
       "      <td>9</td>\n",
       "      <td>5.000000</td>\n",
       "    </tr>\n",
       "    <tr>\n",
       "      <td>8</td>\n",
       "      <td>0</td>\n",
       "      <td>8</td>\n",
       "      <td>6.333333</td>\n",
       "    </tr>\n",
       "    <tr>\n",
       "      <td>9</td>\n",
       "      <td>0</td>\n",
       "      <td>12</td>\n",
       "      <td>6.333333</td>\n",
       "    </tr>\n",
       "  </tbody>\n",
       "</table>\n",
       "</div>"
      ],
      "text/plain": [
       "   Xi  Yi      yhat\n",
       "0   0  10  6.333333\n",
       "1   1   2  5.000000\n",
       "2   1   3  5.000000\n",
       "3   0   1  6.333333\n",
       "4   0   4  6.333333\n",
       "5   1   6  5.000000\n",
       "6   0   3  6.333333\n",
       "7   1   9  5.000000\n",
       "8   0   8  6.333333\n",
       "9   0  12  6.333333"
      ]
     },
     "execution_count": 23,
     "metadata": {},
     "output_type": "execute_result"
    }
   ],
   "source": [
    "df3"
   ]
  },
  {
   "cell_type": "code",
   "execution_count": 24,
   "metadata": {},
   "outputs": [
    {
     "name": "stdout",
     "output_type": "stream",
     "text": [
      "5.0\n",
      "6.333333333333333\n",
      "-1.333333333333333\n"
     ]
    }
   ],
   "source": [
    "print(beta1+beta0)\n",
    "print(beta0)\n",
    "print(beta1)"
   ]
  },
  {
   "cell_type": "markdown",
   "metadata": {},
   "source": [
    "Before fitting the linear regression line, the mean of group 0 if X=0 is 6.33333 and the mean of group 1 if\n",
    "X = 1 is 5.0. After fitting the linear regression line, we get beta0 = 6.333333 and beta1 = -1.333333. I also calculated the new group means which are the same as before and yhat is the group mean for group1 if X=1 and the group mean for group0 if X=0.  \n",
    "Moreover, when X=0, beta0 equals to the mean of group 0 which is 6.333333. When X=1, beta0 + beta1 equals to the mean of group 1 which is 5."
   ]
  },
  {
   "cell_type": "markdown",
   "metadata": {},
   "source": [
    "# Question 4"
   ]
  },
  {
   "cell_type": "code",
   "execution_count": 25,
   "metadata": {},
   "outputs": [],
   "source": [
    "X = [1, 2, 3, 4, 5, 6, 7, 8, 9]\n",
    "Y = [1, 2, 3, 1, 2, 3, 1, 2, 3]\n",
    "newX = X / np.std(X)\n",
    "newY = Y / np.std(Y)"
   ]
  },
  {
   "cell_type": "code",
   "execution_count": 26,
   "metadata": {
    "scrolled": true
   },
   "outputs": [
    {
     "name": "stdout",
     "output_type": "stream",
     "text": [
      "LinregressResult(slope=0.316227766016838, intercept=1.8371173070873832, rvalue=0.31622776601683794, pvalue=0.4070838220655887, stderr=0.35856858280031817)\n"
     ]
    }
   ],
   "source": [
    "print(st.linregress(x=newX, y=newY))"
   ]
  },
  {
   "cell_type": "code",
   "execution_count": 27,
   "metadata": {},
   "outputs": [
    {
     "name": "stdout",
     "output_type": "stream",
     "text": [
      "LinregressResult(slope=0.31622776601683783, intercept=1.1618950038622256, rvalue=0.31622776601683794, pvalue=0.4070838220655887, stderr=0.358568582800318)\n"
     ]
    }
   ],
   "source": [
    "print(st.linregress(x=newY, y=newX))"
   ]
  },
  {
   "cell_type": "code",
   "execution_count": 32,
   "metadata": {},
   "outputs": [
    {
     "data": {
      "text/plain": [
       "0.3162277660168379"
      ]
     },
     "execution_count": 32,
     "metadata": {},
     "output_type": "execute_result"
    }
   ],
   "source": [
    "# Correlation of new Y and new X (after dividing by their standard deviations)\n",
    "st.pearsonr(newY, newX)[0]"
   ]
  },
  {
   "cell_type": "code",
   "execution_count": 33,
   "metadata": {},
   "outputs": [
    {
     "data": {
      "text/plain": [
       "0.3162277660168379"
      ]
     },
     "execution_count": 33,
     "metadata": {},
     "output_type": "execute_result"
    }
   ],
   "source": [
    "# Correlation of new X and new Y (after dividing by their standard deviations)\n",
    "st.pearsonr(newX, newY)[0]"
   ]
  },
  {
   "cell_type": "markdown",
   "metadata": {},
   "source": [
    "Therefore, the slope for either regressing Y on X or X on Y is the correlation which is 0.316227766016838."
   ]
  },
  {
   "cell_type": "code",
   "execution_count": null,
   "metadata": {},
   "outputs": [],
   "source": []
  }
 ],
 "metadata": {
  "kernelspec": {
   "display_name": "Python 3",
   "language": "python",
   "name": "python3"
  },
  "language_info": {
   "codemirror_mode": {
    "name": "ipython",
    "version": 3
   },
   "file_extension": ".py",
   "mimetype": "text/x-python",
   "name": "python",
   "nbconvert_exporter": "python",
   "pygments_lexer": "ipython3",
   "version": "3.7.4"
  }
 },
 "nbformat": 4,
 "nbformat_minor": 2
}
