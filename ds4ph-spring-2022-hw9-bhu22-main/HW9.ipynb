{
 "cells": [
  {
   "cell_type": "code",
   "execution_count": 1,
   "id": "3d608ff7-0aed-4fbd-a2b4-47ae447d7fa0",
   "metadata": {},
   "outputs": [],
   "source": [
    "import torch\n",
    "import pandas as pd\n",
    "import numpy as np\n",
    "import seaborn as sns\n",
    "import matplotlib.pyplot as plt\n",
    "from sklearn.linear_model import LinearRegression\n",
    "from sklearn.linear_model import LogisticRegression\n",
    "import sklearn as skl\n",
    "import statsmodels.formula.api as smf\n",
    "import statsmodels as sm\n",
    "sns.set()"
   ]
  },
  {
   "cell_type": "code",
   "execution_count": 2,
   "id": "9025ec49-221c-4080-af18-d084b7998585",
   "metadata": {},
   "outputs": [],
   "source": [
    "df = pd.read_csv('https://raw.githubusercontent.com/CSSEGISandData/COVID-19/master/csse_covid_19_data/csse_covid_19_time_series/time_series_covid19_confirmed_global.csv')\n",
    "new_df = df.loc[df['Country/Region']=='Singapore']\n",
    "singa_df = new_df.drop(['Province/State','Country/Region','Lat','Long','1/22/20'], axis=1)\n",
    "singa = singa_df.T"
   ]
  },
  {
   "cell_type": "code",
   "execution_count": 3,
   "id": "11ba25f3-a05f-40d0-9d07-bb52d1864c9f",
   "metadata": {},
   "outputs": [],
   "source": [
    "new_columns = []\n",
    "df2 = pd.DataFrame()\n",
    "\n",
    "for i in range(len(singa_df.columns)):\n",
    "    new_columns.append('Yt'+'{}'.format(i))\n",
    "    df2 = pd.concat([df2, singa.shift(i)],axis =1)\n",
    "df2.columns = new_columns"
   ]
  },
  {
   "cell_type": "code",
   "execution_count": 5,
   "id": "951886c5-e910-4bb5-8fda-55faa26f1aa5",
   "metadata": {},
   "outputs": [],
   "source": [
    "df2 = df2.rename({'Yt0':'Yt'},axis=1)"
   ]
  },
  {
   "cell_type": "code",
   "execution_count": 7,
   "id": "e0fc91e6-7afb-4acb-857a-0f6bc147e719",
   "metadata": {},
   "outputs": [
    {
     "data": {
      "text/html": [
       "<div>\n",
       "<style scoped>\n",
       "    .dataframe tbody tr th:only-of-type {\n",
       "        vertical-align: middle;\n",
       "    }\n",
       "\n",
       "    .dataframe tbody tr th {\n",
       "        vertical-align: top;\n",
       "    }\n",
       "\n",
       "    .dataframe thead th {\n",
       "        text-align: right;\n",
       "    }\n",
       "</style>\n",
       "<table border=\"1\" class=\"dataframe\">\n",
       "  <thead>\n",
       "    <tr style=\"text-align: right;\">\n",
       "      <th></th>\n",
       "      <th>Yt</th>\n",
       "      <th>Yt1</th>\n",
       "      <th>Yt2</th>\n",
       "      <th>Yt3</th>\n",
       "      <th>Yt4</th>\n",
       "      <th>Yt5</th>\n",
       "      <th>Yt6</th>\n",
       "      <th>Yt7</th>\n",
       "      <th>Yt8</th>\n",
       "      <th>Yt9</th>\n",
       "      <th>...</th>\n",
       "      <th>Yt809</th>\n",
       "      <th>Yt810</th>\n",
       "      <th>Yt811</th>\n",
       "      <th>Yt812</th>\n",
       "      <th>Yt813</th>\n",
       "      <th>Yt814</th>\n",
       "      <th>Yt815</th>\n",
       "      <th>Yt816</th>\n",
       "      <th>Yt817</th>\n",
       "      <th>days</th>\n",
       "    </tr>\n",
       "  </thead>\n",
       "  <tbody>\n",
       "    <tr>\n",
       "      <th>1/23/20</th>\n",
       "      <td>1</td>\n",
       "      <td>0.0</td>\n",
       "      <td>0.0</td>\n",
       "      <td>0.0</td>\n",
       "      <td>0.0</td>\n",
       "      <td>0.0</td>\n",
       "      <td>0.0</td>\n",
       "      <td>0.0</td>\n",
       "      <td>0.0</td>\n",
       "      <td>0.0</td>\n",
       "      <td>...</td>\n",
       "      <td>0.0</td>\n",
       "      <td>0.0</td>\n",
       "      <td>0.0</td>\n",
       "      <td>0.0</td>\n",
       "      <td>0.0</td>\n",
       "      <td>0.0</td>\n",
       "      <td>0.0</td>\n",
       "      <td>0.0</td>\n",
       "      <td>0.0</td>\n",
       "      <td>0</td>\n",
       "    </tr>\n",
       "    <tr>\n",
       "      <th>1/24/20</th>\n",
       "      <td>3</td>\n",
       "      <td>1.0</td>\n",
       "      <td>0.0</td>\n",
       "      <td>0.0</td>\n",
       "      <td>0.0</td>\n",
       "      <td>0.0</td>\n",
       "      <td>0.0</td>\n",
       "      <td>0.0</td>\n",
       "      <td>0.0</td>\n",
       "      <td>0.0</td>\n",
       "      <td>...</td>\n",
       "      <td>0.0</td>\n",
       "      <td>0.0</td>\n",
       "      <td>0.0</td>\n",
       "      <td>0.0</td>\n",
       "      <td>0.0</td>\n",
       "      <td>0.0</td>\n",
       "      <td>0.0</td>\n",
       "      <td>0.0</td>\n",
       "      <td>0.0</td>\n",
       "      <td>1</td>\n",
       "    </tr>\n",
       "    <tr>\n",
       "      <th>1/25/20</th>\n",
       "      <td>3</td>\n",
       "      <td>3.0</td>\n",
       "      <td>1.0</td>\n",
       "      <td>0.0</td>\n",
       "      <td>0.0</td>\n",
       "      <td>0.0</td>\n",
       "      <td>0.0</td>\n",
       "      <td>0.0</td>\n",
       "      <td>0.0</td>\n",
       "      <td>0.0</td>\n",
       "      <td>...</td>\n",
       "      <td>0.0</td>\n",
       "      <td>0.0</td>\n",
       "      <td>0.0</td>\n",
       "      <td>0.0</td>\n",
       "      <td>0.0</td>\n",
       "      <td>0.0</td>\n",
       "      <td>0.0</td>\n",
       "      <td>0.0</td>\n",
       "      <td>0.0</td>\n",
       "      <td>2</td>\n",
       "    </tr>\n",
       "    <tr>\n",
       "      <th>1/26/20</th>\n",
       "      <td>4</td>\n",
       "      <td>3.0</td>\n",
       "      <td>3.0</td>\n",
       "      <td>1.0</td>\n",
       "      <td>0.0</td>\n",
       "      <td>0.0</td>\n",
       "      <td>0.0</td>\n",
       "      <td>0.0</td>\n",
       "      <td>0.0</td>\n",
       "      <td>0.0</td>\n",
       "      <td>...</td>\n",
       "      <td>0.0</td>\n",
       "      <td>0.0</td>\n",
       "      <td>0.0</td>\n",
       "      <td>0.0</td>\n",
       "      <td>0.0</td>\n",
       "      <td>0.0</td>\n",
       "      <td>0.0</td>\n",
       "      <td>0.0</td>\n",
       "      <td>0.0</td>\n",
       "      <td>3</td>\n",
       "    </tr>\n",
       "    <tr>\n",
       "      <th>1/27/20</th>\n",
       "      <td>5</td>\n",
       "      <td>4.0</td>\n",
       "      <td>3.0</td>\n",
       "      <td>3.0</td>\n",
       "      <td>1.0</td>\n",
       "      <td>0.0</td>\n",
       "      <td>0.0</td>\n",
       "      <td>0.0</td>\n",
       "      <td>0.0</td>\n",
       "      <td>0.0</td>\n",
       "      <td>...</td>\n",
       "      <td>0.0</td>\n",
       "      <td>0.0</td>\n",
       "      <td>0.0</td>\n",
       "      <td>0.0</td>\n",
       "      <td>0.0</td>\n",
       "      <td>0.0</td>\n",
       "      <td>0.0</td>\n",
       "      <td>0.0</td>\n",
       "      <td>0.0</td>\n",
       "      <td>4</td>\n",
       "    </tr>\n",
       "    <tr>\n",
       "      <th>...</th>\n",
       "      <td>...</td>\n",
       "      <td>...</td>\n",
       "      <td>...</td>\n",
       "      <td>...</td>\n",
       "      <td>...</td>\n",
       "      <td>...</td>\n",
       "      <td>...</td>\n",
       "      <td>...</td>\n",
       "      <td>...</td>\n",
       "      <td>...</td>\n",
       "      <td>...</td>\n",
       "      <td>...</td>\n",
       "      <td>...</td>\n",
       "      <td>...</td>\n",
       "      <td>...</td>\n",
       "      <td>...</td>\n",
       "      <td>...</td>\n",
       "      <td>...</td>\n",
       "      <td>...</td>\n",
       "      <td>...</td>\n",
       "      <td>...</td>\n",
       "    </tr>\n",
       "    <tr>\n",
       "      <th>4/15/22</th>\n",
       "      <td>1155581</td>\n",
       "      <td>1152177.0</td>\n",
       "      <td>1148656.0</td>\n",
       "      <td>1145121.0</td>\n",
       "      <td>1140569.0</td>\n",
       "      <td>1138001.0</td>\n",
       "      <td>1135428.0</td>\n",
       "      <td>1132169.0</td>\n",
       "      <td>1128155.0</td>\n",
       "      <td>1123886.0</td>\n",
       "      <td>...</td>\n",
       "      <td>5.0</td>\n",
       "      <td>4.0</td>\n",
       "      <td>3.0</td>\n",
       "      <td>3.0</td>\n",
       "      <td>1.0</td>\n",
       "      <td>0.0</td>\n",
       "      <td>0.0</td>\n",
       "      <td>0.0</td>\n",
       "      <td>0.0</td>\n",
       "      <td>813</td>\n",
       "    </tr>\n",
       "    <tr>\n",
       "      <th>4/16/22</th>\n",
       "      <td>1157251</td>\n",
       "      <td>1155581.0</td>\n",
       "      <td>1152177.0</td>\n",
       "      <td>1148656.0</td>\n",
       "      <td>1145121.0</td>\n",
       "      <td>1140569.0</td>\n",
       "      <td>1138001.0</td>\n",
       "      <td>1135428.0</td>\n",
       "      <td>1132169.0</td>\n",
       "      <td>1128155.0</td>\n",
       "      <td>...</td>\n",
       "      <td>7.0</td>\n",
       "      <td>5.0</td>\n",
       "      <td>4.0</td>\n",
       "      <td>3.0</td>\n",
       "      <td>3.0</td>\n",
       "      <td>1.0</td>\n",
       "      <td>0.0</td>\n",
       "      <td>0.0</td>\n",
       "      <td>0.0</td>\n",
       "      <td>814</td>\n",
       "    </tr>\n",
       "    <tr>\n",
       "      <th>4/17/22</th>\n",
       "      <td>1160300</td>\n",
       "      <td>1157251.0</td>\n",
       "      <td>1155581.0</td>\n",
       "      <td>1152177.0</td>\n",
       "      <td>1148656.0</td>\n",
       "      <td>1145121.0</td>\n",
       "      <td>1140569.0</td>\n",
       "      <td>1138001.0</td>\n",
       "      <td>1135428.0</td>\n",
       "      <td>1132169.0</td>\n",
       "      <td>...</td>\n",
       "      <td>7.0</td>\n",
       "      <td>7.0</td>\n",
       "      <td>5.0</td>\n",
       "      <td>4.0</td>\n",
       "      <td>3.0</td>\n",
       "      <td>3.0</td>\n",
       "      <td>1.0</td>\n",
       "      <td>0.0</td>\n",
       "      <td>0.0</td>\n",
       "      <td>815</td>\n",
       "    </tr>\n",
       "    <tr>\n",
       "      <th>4/18/22</th>\n",
       "      <td>1162780</td>\n",
       "      <td>1160300.0</td>\n",
       "      <td>1157251.0</td>\n",
       "      <td>1155581.0</td>\n",
       "      <td>1152177.0</td>\n",
       "      <td>1148656.0</td>\n",
       "      <td>1145121.0</td>\n",
       "      <td>1140569.0</td>\n",
       "      <td>1138001.0</td>\n",
       "      <td>1135428.0</td>\n",
       "      <td>...</td>\n",
       "      <td>10.0</td>\n",
       "      <td>7.0</td>\n",
       "      <td>7.0</td>\n",
       "      <td>5.0</td>\n",
       "      <td>4.0</td>\n",
       "      <td>3.0</td>\n",
       "      <td>3.0</td>\n",
       "      <td>1.0</td>\n",
       "      <td>0.0</td>\n",
       "      <td>816</td>\n",
       "    </tr>\n",
       "    <tr>\n",
       "      <th>4/19/22</th>\n",
       "      <td>1167498</td>\n",
       "      <td>1162780.0</td>\n",
       "      <td>1160300.0</td>\n",
       "      <td>1157251.0</td>\n",
       "      <td>1155581.0</td>\n",
       "      <td>1152177.0</td>\n",
       "      <td>1148656.0</td>\n",
       "      <td>1145121.0</td>\n",
       "      <td>1140569.0</td>\n",
       "      <td>1138001.0</td>\n",
       "      <td>...</td>\n",
       "      <td>13.0</td>\n",
       "      <td>10.0</td>\n",
       "      <td>7.0</td>\n",
       "      <td>7.0</td>\n",
       "      <td>5.0</td>\n",
       "      <td>4.0</td>\n",
       "      <td>3.0</td>\n",
       "      <td>3.0</td>\n",
       "      <td>1.0</td>\n",
       "      <td>817</td>\n",
       "    </tr>\n",
       "  </tbody>\n",
       "</table>\n",
       "<p>818 rows × 819 columns</p>\n",
       "</div>"
      ],
      "text/plain": [
       "              Yt        Yt1        Yt2        Yt3        Yt4        Yt5  \\\n",
       "1/23/20        1        0.0        0.0        0.0        0.0        0.0   \n",
       "1/24/20        3        1.0        0.0        0.0        0.0        0.0   \n",
       "1/25/20        3        3.0        1.0        0.0        0.0        0.0   \n",
       "1/26/20        4        3.0        3.0        1.0        0.0        0.0   \n",
       "1/27/20        5        4.0        3.0        3.0        1.0        0.0   \n",
       "...          ...        ...        ...        ...        ...        ...   \n",
       "4/15/22  1155581  1152177.0  1148656.0  1145121.0  1140569.0  1138001.0   \n",
       "4/16/22  1157251  1155581.0  1152177.0  1148656.0  1145121.0  1140569.0   \n",
       "4/17/22  1160300  1157251.0  1155581.0  1152177.0  1148656.0  1145121.0   \n",
       "4/18/22  1162780  1160300.0  1157251.0  1155581.0  1152177.0  1148656.0   \n",
       "4/19/22  1167498  1162780.0  1160300.0  1157251.0  1155581.0  1152177.0   \n",
       "\n",
       "               Yt6        Yt7        Yt8        Yt9  ...  Yt809  Yt810  Yt811  \\\n",
       "1/23/20        0.0        0.0        0.0        0.0  ...    0.0    0.0    0.0   \n",
       "1/24/20        0.0        0.0        0.0        0.0  ...    0.0    0.0    0.0   \n",
       "1/25/20        0.0        0.0        0.0        0.0  ...    0.0    0.0    0.0   \n",
       "1/26/20        0.0        0.0        0.0        0.0  ...    0.0    0.0    0.0   \n",
       "1/27/20        0.0        0.0        0.0        0.0  ...    0.0    0.0    0.0   \n",
       "...            ...        ...        ...        ...  ...    ...    ...    ...   \n",
       "4/15/22  1135428.0  1132169.0  1128155.0  1123886.0  ...    5.0    4.0    3.0   \n",
       "4/16/22  1138001.0  1135428.0  1132169.0  1128155.0  ...    7.0    5.0    4.0   \n",
       "4/17/22  1140569.0  1138001.0  1135428.0  1132169.0  ...    7.0    7.0    5.0   \n",
       "4/18/22  1145121.0  1140569.0  1138001.0  1135428.0  ...   10.0    7.0    7.0   \n",
       "4/19/22  1148656.0  1145121.0  1140569.0  1138001.0  ...   13.0   10.0    7.0   \n",
       "\n",
       "         Yt812  Yt813  Yt814  Yt815  Yt816  Yt817  days  \n",
       "1/23/20    0.0    0.0    0.0    0.0    0.0    0.0     0  \n",
       "1/24/20    0.0    0.0    0.0    0.0    0.0    0.0     1  \n",
       "1/25/20    0.0    0.0    0.0    0.0    0.0    0.0     2  \n",
       "1/26/20    0.0    0.0    0.0    0.0    0.0    0.0     3  \n",
       "1/27/20    0.0    0.0    0.0    0.0    0.0    0.0     4  \n",
       "...        ...    ...    ...    ...    ...    ...   ...  \n",
       "4/15/22    3.0    1.0    0.0    0.0    0.0    0.0   813  \n",
       "4/16/22    3.0    3.0    1.0    0.0    0.0    0.0   814  \n",
       "4/17/22    4.0    3.0    3.0    1.0    0.0    0.0   815  \n",
       "4/18/22    5.0    4.0    3.0    3.0    1.0    0.0   816  \n",
       "4/19/22    7.0    5.0    4.0    3.0    3.0    1.0   817  \n",
       "\n",
       "[818 rows x 819 columns]"
      ]
     },
     "execution_count": 7,
     "metadata": {},
     "output_type": "execute_result"
    }
   ],
   "source": [
    "df2 = df2.fillna(0)\n",
    "df2 = df2.assign(days=range(len(df2.index)))\n",
    "df2"
   ]
  },
  {
   "cell_type": "markdown",
   "id": "aeb58aa0-ad6c-494b-b9b7-9c94e8441ae0",
   "metadata": {},
   "source": [
    "# Neural Network"
   ]
  },
  {
   "cell_type": "markdown",
   "id": "155138ff-cf12-4b62-9fd8-91a1f3fa0ca7",
   "metadata": {},
   "source": [
    "## Part A : Fit the model on all of A and apply it to all A"
   ]
  },
  {
   "cell_type": "markdown",
   "id": "a03f6420-5b89-4968-a51a-b6e897521bde",
   "metadata": {
    "tags": []
   },
   "source": [
    "### 2 Hidden Nodes"
   ]
  },
  {
   "cell_type": "code",
   "execution_count": 11,
   "id": "9d6bf082-70a6-43b9-b57d-9fde1a04891c",
   "metadata": {},
   "outputs": [],
   "source": [
    "x_all = torch.from_numpy(df2.iloc[:,1:818].values)\n",
    "y_all = torch.from_numpy(df2.Yt.values)\n",
    "\n",
    "#normalize x value and turn y value to log of y\n",
    "y_all = torch.log(y_all)\n",
    "x_all = torch.nn.functional.normalize(x_all)"
   ]
  },
  {
   "cell_type": "code",
   "execution_count": 12,
   "id": "dab17c50-38c3-48a4-9d31-c668d776eb16",
   "metadata": {},
   "outputs": [],
   "source": [
    "x_all = x_all.float()\n",
    "y_all = y_all.float()\n",
    "y_all = y_all.unsqueeze(1)"
   ]
  },
  {
   "cell_type": "code",
   "execution_count": 13,
   "id": "74101d4f-23e6-47e3-b54a-2a2bb7051a6c",
   "metadata": {},
   "outputs": [
    {
     "data": {
      "text/plain": [
       "[torch.Size([818, 817]), torch.Size([818, 1])]"
      ]
     },
     "execution_count": 13,
     "metadata": {},
     "output_type": "execute_result"
    }
   ],
   "source": [
    "[x_all.shape, \n",
    " y_all.shape,\n",
    " ]"
   ]
  },
  {
   "cell_type": "code",
   "execution_count": 14,
   "id": "7222c645-9394-4aac-91d4-78087a4b9124",
   "metadata": {},
   "outputs": [],
   "source": [
    "H = 2 # two hidden nodes for 1 hidden layer\n",
    "D_in = x_all.size()[1]\n",
    "D_out = 1\n",
    "model = torch.nn.Sequential(\n",
    "    torch.nn.Linear(D_in, H),\n",
    "    torch.nn.ReLU(),\n",
    "    torch.nn.Linear(H, D_out),\n",
    ")\n",
    "\n",
    "loss_fn = torch.nn.MSELoss(reduction='mean')"
   ]
  },
  {
   "cell_type": "code",
   "execution_count": 15,
   "id": "74c09418-db46-481e-9215-538c060ba89d",
   "metadata": {},
   "outputs": [
    {
     "name": "stdout",
     "output_type": "stream",
     "text": [
      "0 132.92779541015625\n",
      "10000 127.90796661376953\n",
      "20000 123.07422637939453\n",
      "30000 118.42118835449219\n",
      "40000 113.93579864501953\n",
      "50000 109.600830078125\n",
      "60000 105.393798828125\n",
      "70000 101.2841567993164\n",
      "80000 97.22860717773438\n",
      "90000 93.16439819335938\n"
     ]
    }
   ],
   "source": [
    "# n = df2.shape[0]\n",
    "optimizer = torch.optim.SGD(model.parameters(), lr=1e-6)\n",
    "\n",
    "for t in range(100000):\n",
    "    y_pred = model(x_all)\n",
    "    \n",
    "    loss = loss_fn(y_pred, y_all)\n",
    "    if t % 10000 == 0:\n",
    "        # print(t, loss.item()/n)\n",
    "        print(t, loss.item())\n",
    "    \n",
    "    optimizer.zero_grad()\n",
    "    \n",
    "    loss.backward()\n",
    "    \n",
    "    optimizer.step()"
   ]
  },
  {
   "cell_type": "code",
   "execution_count": 16,
   "id": "fb125ae2-dc01-4d9a-b80f-3e57b2f26206",
   "metadata": {},
   "outputs": [],
   "source": [
    "# get predicted y value and true y value in numpy format (log of y)\n",
    "ytest = model(x_all).detach().numpy().reshape(-1)\n",
    "y_original = y_all.detach().numpy().reshape(-1)"
   ]
  },
  {
   "cell_type": "code",
   "execution_count": 17,
   "id": "33dc0704-10bf-494c-8c53-4088f81332bf",
   "metadata": {},
   "outputs": [
    {
     "name": "stderr",
     "output_type": "stream",
     "text": [
      "/opt/tljh/user/lib/python3.9/site-packages/seaborn/_decorators.py:36: FutureWarning: Pass the following variables as keyword args: x, y. From version 0.12, the only valid positional argument will be `data`, and passing other arguments without an explicit keyword will result in an error or misinterpretation.\n",
      "  warnings.warn(\n"
     ]
    },
    {
     "data": {
      "text/plain": [
       "<AxesSubplot:>"
      ]
     },
     "execution_count": 17,
     "metadata": {},
     "output_type": "execute_result"
    },
    {
     "data": {
      "image/png": "[encoded data removed]",
      "text/plain": [
       "<Figure size 432x288 with 1 Axes>"
      ]
     },
     "metadata": {},
     "output_type": "display_data"
    }
   ],
   "source": [
    "sns.scatterplot(ytest,y_original)"
   ]
  },
  {
   "cell_type": "code",
   "execution_count": 18,
   "id": "5af7533a-e0b0-42c9-99e7-e9794aa8caa8",
   "metadata": {},
   "outputs": [
    {
     "data": {
      "text/plain": [
       "Text(0, 0.5, 'Prediction Error')"
      ]
     },
     "execution_count": 18,
     "metadata": {},
     "output_type": "execute_result"
    },
    {
     "data": {
      "image/png": "[encoded data removed]",
      "text/plain": [
       "<Figure size 432x288 with 1 Axes>"
      ]
     },
     "metadata": {},
     "output_type": "display_data"
    }
   ],
   "source": [
    "plt.plot(df2['days'],y_original-ytest)  # y_original is the outcome and ytest is the predicted outcome (on the scale of log y)\n",
    "plt.xlabel('Day')\n",
    "plt.ylabel('Prediction Error')"
   ]
  },
  {
   "cell_type": "markdown",
   "id": "9363a1fe-5ffb-4538-8968-696b1506633c",
   "metadata": {},
   "source": [
    "## 4 Hidden nodes over 2 layers with 2 hidden nodes in each layer "
   ]
  },
  {
   "cell_type": "code",
   "execution_count": 21,
   "id": "8fa4dc1a-3e18-40bf-a3da-8694551ed439",
   "metadata": {},
   "outputs": [],
   "source": [
    "H2 = 2 # two hidden nodes for each hidden layer \n",
    "D_in2 = x_all.size()[1]\n",
    "D_out2 = 1\n",
    "model2 = torch.nn.Sequential(\n",
    "    torch.nn.Linear(D_in2, H2),     #two hidden layer\n",
    "    torch.nn.ReLU(),\n",
    "    torch.nn.Linear(H2, H2),\n",
    "    torch.nn.ReLU(),\n",
    "    torch.nn.Linear(H2, D_out2),\n",
    ")\n",
    "\n",
    "loss_fn = torch.nn.MSELoss(reduction='mean')"
   ]
  },
  {
   "cell_type": "code",
   "execution_count": 22,
   "id": "17512374-e29a-4c96-b95e-c5b009f8ec91",
   "metadata": {},
   "outputs": [
    {
     "name": "stdout",
     "output_type": "stream",
     "text": [
      "0 112.61164093017578\n",
      "10000 1.5609350204467773\n",
      "20000 0.9356819987297058\n",
      "30000 0.7691906094551086\n",
      "40000 0.757876992225647\n",
      "50000 0.7543185949325562\n",
      "60000 0.7524374723434448\n",
      "70000 0.7510606646537781\n",
      "80000 0.7499088048934937\n",
      "90000 0.7488925457000732\n"
     ]
    }
   ],
   "source": [
    "optimizer = torch.optim.SGD(model2.parameters(), lr=1e-3)\n",
    "\n",
    "for t in range(100000):\n",
    "    y_pred2 = model2(x_all)\n",
    "    \n",
    "    loss = loss_fn(y_pred2, y_all)\n",
    "    if t % 10000 == 0:\n",
    "        # print(t, loss.item()/n)\n",
    "        print(t, loss.item())\n",
    "    \n",
    "    optimizer.zero_grad()\n",
    "    \n",
    "    loss.backward()\n",
    "    \n",
    "    optimizer.step()"
   ]
  },
  {
   "cell_type": "code",
   "execution_count": 23,
   "id": "9442bc17-e27c-48b7-b2cb-1e8003bd80a6",
   "metadata": {},
   "outputs": [],
   "source": [
    "ytest2 = model2(x_all).detach().numpy().reshape(-1) # y_original2 is the outcome and ytest2 is the predicted outcome (on the scale of log y)\n",
    "y_original2 = y_all.detach().numpy().reshape(-1)"
   ]
  },
  {
   "cell_type": "code",
   "execution_count": 24,
   "id": "d137d57e-543b-43d5-9414-741752406da6",
   "metadata": {},
   "outputs": [
    {
     "name": "stderr",
     "output_type": "stream",
     "text": [
      "/opt/tljh/user/lib/python3.9/site-packages/seaborn/_decorators.py:36: FutureWarning: Pass the following variables as keyword args: x, y. From version 0.12, the only valid positional argument will be `data`, and passing other arguments without an explicit keyword will result in an error or misinterpretation.\n",
      "  warnings.warn(\n"
     ]
    },
    {
     "data": {
      "text/plain": [
       "<AxesSubplot:>"
      ]
     },
     "execution_count": 24,
     "metadata": {},
     "output_type": "execute_result"
    },
    {
     "data": {
      "image/png": "[encoded data removed]",
      "text/plain": [
       "<Figure size 432x288 with 1 Axes>"
      ]
     },
     "metadata": {},
     "output_type": "display_data"
    }
   ],
   "source": [
    "sns.scatterplot(ytest2,y_original)"
   ]
  },
  {
   "cell_type": "code",
   "execution_count": 25,
   "id": "f540af3e-aaa0-4d6d-8125-bcbd8dc53cb4",
   "metadata": {},
   "outputs": [
    {
     "data": {
      "text/plain": [
       "Text(0, 0.5, 'Prediction Error')"
      ]
     },
     "execution_count": 25,
     "metadata": {},
     "output_type": "execute_result"
    },
    {
     "data": {
      "image/png": "[encoded data removed]",
      "text/plain": [
       "<Figure size 432x288 with 1 Axes>"
      ]
     },
     "metadata": {},
     "output_type": "display_data"
    }
   ],
   "source": [
    "plt.plot(df2['days'],y_original2-ytest2)  # y_original is the outcome and ytest is the predicted outcome (on the scale of log y)\n",
    "plt.xlabel('Day')\n",
    "plt.ylabel('Prediction Error')"
   ]
  },
  {
   "cell_type": "markdown",
   "id": "d6a32b85-05c2-4eb7-ac86-3a0f9da3c061",
   "metadata": {},
   "source": [
    "## Regression using pytorch"
   ]
  },
  {
   "cell_type": "code",
   "execution_count": 52,
   "id": "dd3607bd-07c2-4b16-b39a-146d65b27e51",
   "metadata": {},
   "outputs": [],
   "source": [
    "D_in = x_all.size()[1]\n",
    "D_out = 1\n",
    "modelr1 = torch.nn.Sequential(\n",
    "    torch.nn.Linear(D_in, D_out),\n",
    ")\n",
    "\n",
    "loss_fn = torch.nn.MSELoss(reduction='mean')"
   ]
  },
  {
   "cell_type": "code",
   "execution_count": 53,
   "id": "4542715b-7dcb-46c9-a97c-d05f8a9b415c",
   "metadata": {},
   "outputs": [
    {
     "name": "stdout",
     "output_type": "stream",
     "text": [
      "0 120.84754180908203\n",
      "10000 113.02153015136719\n",
      "20000 105.71349334716797\n",
      "30000 98.88899230957031\n",
      "40000 92.5162582397461\n",
      "50000 86.5653076171875\n",
      "60000 81.00822448730469\n",
      "70000 75.81873321533203\n",
      "80000 70.97276306152344\n",
      "90000 66.4471206665039\n"
     ]
    }
   ],
   "source": [
    "# n = df2.shape[0]\n",
    "optimizer = torch.optim.SGD(modelr1.parameters(), lr=1e-6)\n",
    "\n",
    "for t in range(100000):\n",
    "    y_pred = modelr1(x_all)\n",
    "    \n",
    "    loss = loss_fn(y_pred, y_all)\n",
    "    if t % 10000 == 0:\n",
    "        # print(t, loss.item()/n)\n",
    "        print(t, loss.item())\n",
    "    \n",
    "    optimizer.zero_grad()\n",
    "    \n",
    "    loss.backward()\n",
    "    \n",
    "    optimizer.step()"
   ]
  },
  {
   "cell_type": "code",
   "execution_count": 54,
   "id": "2132f47b-5282-4caa-90b0-16f9141a0f34",
   "metadata": {},
   "outputs": [],
   "source": [
    "ytestr1 = modelr1(x_all).detach().numpy().reshape(-1)\n",
    "y_originalr1 = y_all.detach().numpy().reshape(-1)"
   ]
  },
  {
   "cell_type": "code",
   "execution_count": 56,
   "id": "d2138885-22b9-43f7-ba5f-750b6cccd329",
   "metadata": {},
   "outputs": [
    {
     "data": {
      "text/plain": [
       "Text(0, 0.5, 'Prediction Error')"
      ]
     },
     "execution_count": 56,
     "metadata": {},
     "output_type": "execute_result"
    },
    {
     "data": {
      "image/png": "[encoded data removed]",
      "text/plain": [
       "<Figure size 432x288 with 1 Axes>"
      ]
     },
     "metadata": {},
     "output_type": "display_data"
    }
   ],
   "source": [
    "plt.plot(df2['days'],y_originalr1-ytestr1)  # y_original is the outcome and ytest is the predicted outcome (on the scale of log y)\n",
    "plt.xlabel('Day')\n",
    "plt.ylabel('Prediction Error')"
   ]
  },
  {
   "cell_type": "code",
   "execution_count": 57,
   "id": "9c83835b-38f0-46ac-83d8-432f9595605b",
   "metadata": {},
   "outputs": [
    {
     "data": {
      "text/plain": [
       "62.22105"
      ]
     },
     "execution_count": 57,
     "metadata": {},
     "output_type": "execute_result"
    }
   ],
   "source": [
    "np.square(np.subtract(y_originalr1,ytestr1)).mean()"
   ]
  },
  {
   "cell_type": "markdown",
   "id": "2e08d62a-5001-4e84-b321-b99f4348bf04",
   "metadata": {},
   "source": [
    "# Part b Half Data and fit to all "
   ]
  },
  {
   "cell_type": "markdown",
   "id": "0ddf3281-8d40-4286-9bd3-c83de7b41dbd",
   "metadata": {},
   "source": [
    "## 2 hidden nodes "
   ]
  },
  {
   "cell_type": "code",
   "execution_count": 28,
   "id": "eb395adb-4b69-42f3-9a5d-f7d01c656dc2",
   "metadata": {},
   "outputs": [],
   "source": [
    "x_half = torch.from_numpy(df2.iloc[0:410,1:410].values)\n",
    "y_half = torch.from_numpy(df2.iloc[0:410,0].values)\n",
    "\n",
    "# normalize x and change y to log of y \n",
    "y_half = torch.log(y_half)\n",
    "x_half = torch.nn.functional.normalize(x_half)\n",
    "\n",
    "x_half = x_half.float()\n",
    "y_half = y_half.float()\n",
    "\n",
    "y_half = y_half.unsqueeze(1)"
   ]
  },
  {
   "cell_type": "code",
   "execution_count": 29,
   "id": "c41bf0b0-61a3-4457-b2b9-360a0553bb72",
   "metadata": {},
   "outputs": [
    {
     "data": {
      "text/plain": [
       "[torch.Size([410, 409]), torch.Size([410, 1])]"
      ]
     },
     "execution_count": 29,
     "metadata": {},
     "output_type": "execute_result"
    }
   ],
   "source": [
    "[x_half.shape, \n",
    " y_half.shape,\n",
    " ]"
   ]
  },
  {
   "cell_type": "code",
   "execution_count": 30,
   "id": "a65b29d1-02eb-45c7-ba7a-64c8adf539d3",
   "metadata": {},
   "outputs": [],
   "source": [
    "# test set: all of A \n",
    "x_testb = torch.from_numpy(df2.iloc[:,1:410].values)\n",
    "y_testb = torch.from_numpy(df2.iloc[:,0].values)\n",
    "y_testb = torch.log(y_testb)\n",
    "x_testb = torch.nn.functional.normalize(x_testb)\n",
    "\n",
    "x_testb = x_testb.float()\n",
    "y_testb = y_testb.float()\n",
    "\n",
    "y_testb = y_testb.unsqueeze(1)"
   ]
  },
  {
   "cell_type": "code",
   "execution_count": 31,
   "id": "f0e41828-275b-44c7-a7da-08318df5625c",
   "metadata": {},
   "outputs": [
    {
     "data": {
      "text/plain": [
       "[torch.Size([818, 409]), torch.Size([818, 1])]"
      ]
     },
     "execution_count": 31,
     "metadata": {},
     "output_type": "execute_result"
    }
   ],
   "source": [
    "[x_testb.shape, \n",
    " y_testb.shape,\n",
    " ]"
   ]
  },
  {
   "cell_type": "code",
   "execution_count": 32,
   "id": "b87d5985-dd77-43ce-9237-1d2414f6bccd",
   "metadata": {},
   "outputs": [
    {
     "name": "stdout",
     "output_type": "stream",
     "text": [
      "0 97.72466278076172\n",
      "10000 94.1121826171875\n",
      "20000 90.66416931152344\n",
      "30000 87.34730529785156\n",
      "40000 84.10338592529297\n",
      "50000 80.9646987915039\n",
      "60000 77.91947937011719\n",
      "70000 74.94306182861328\n",
      "80000 72.00749969482422\n",
      "90000 69.0763931274414\n"
     ]
    }
   ],
   "source": [
    "H = 2  # two hidden nodes\n",
    "D_in = x_half.size()[1]\n",
    "D_out = 1\n",
    "modelb1 = torch.nn.Sequential(\n",
    "    torch.nn.Linear(D_in, H),       # one hidden layer\n",
    "    torch.nn.ReLU(),\n",
    "    torch.nn.Linear(H, D_out),\n",
    ")\n",
    "\n",
    "loss_fn = torch.nn.MSELoss(reduction='mean')\n",
    "\n",
    "# n = df2.shape[0]\n",
    "optimizer = torch.optim.SGD(modelb1.parameters(), lr=1e-6)\n",
    "\n",
    "for t in range(100000):\n",
    "    y_pred = modelb1(x_half)\n",
    "    \n",
    "    loss = loss_fn(y_pred, y_half)\n",
    "    if t % 10000 == 0:\n",
    "        # print(t, loss.item()/n)\n",
    "        print(t, loss.item())\n",
    "    \n",
    "    optimizer.zero_grad()\n",
    "    \n",
    "    loss.backward()\n",
    "    \n",
    "    optimizer.step()\n"
   ]
  },
  {
   "cell_type": "code",
   "execution_count": 33,
   "id": "170f3ca0-35ad-4c3d-9f0c-7010551f7fed",
   "metadata": {},
   "outputs": [],
   "source": [
    "ypredb1 = modelb1(x_testb).detach().numpy().reshape(-1)    # y_originalb1 is the outcome and yredb1 is the predicted outcome (on the scale of log y)\n",
    "y_originalb1 = y_testb.detach().numpy().reshape(-1)"
   ]
  },
  {
   "cell_type": "code",
   "execution_count": 34,
   "id": "a3a873d9-7c28-4c50-9cae-90c0331edbed",
   "metadata": {},
   "outputs": [
    {
     "name": "stderr",
     "output_type": "stream",
     "text": [
      "/opt/tljh/user/lib/python3.9/site-packages/seaborn/_decorators.py:36: FutureWarning: Pass the following variables as keyword args: x, y. From version 0.12, the only valid positional argument will be `data`, and passing other arguments without an explicit keyword will result in an error or misinterpretation.\n",
      "  warnings.warn(\n"
     ]
    },
    {
     "data": {
      "text/plain": [
       "<AxesSubplot:>"
      ]
     },
     "execution_count": 34,
     "metadata": {},
     "output_type": "execute_result"
    },
    {
     "data": {
      "image/png": "[encoded data removed]",
      "text/plain": [
       "<Figure size 432x288 with 1 Axes>"
      ]
     },
     "metadata": {},
     "output_type": "display_data"
    }
   ],
   "source": [
    "sns.scatterplot(ypredb1,y_originalb1)"
   ]
  },
  {
   "cell_type": "code",
   "execution_count": 35,
   "id": "395cadc4-8280-4f4f-8692-25d1b60cac3b",
   "metadata": {},
   "outputs": [
    {
     "data": {
      "text/plain": [
       "Text(0, 0.5, 'Forecasting Error')"
      ]
     },
     "execution_count": 35,
     "metadata": {},
     "output_type": "execute_result"
    },
    {
     "data": {
      "image/png": "[encoded data removed]",
      "text/plain": [
       "<Figure size 432x288 with 1 Axes>"
      ]
     },
     "metadata": {},
     "output_type": "display_data"
    }
   ],
   "source": [
    "plt.plot(df2['days'],y_originalb1-ypredb1)  # y_originalb1 is the outcome and ypredb1 is the predicted outcome (on the scale of log y)\n",
    "plt.xlabel('Day')\n",
    "plt.ylabel('Forecasting Error')"
   ]
  },
  {
   "cell_type": "code",
   "execution_count": 36,
   "id": "665ddab7-28ff-471e-a7f8-34986b4f44a3",
   "metadata": {},
   "outputs": [
    {
     "data": {
      "text/plain": [
       "84.51569"
      ]
     },
     "execution_count": 36,
     "metadata": {},
     "output_type": "execute_result"
    }
   ],
   "source": [
    "np.square(np.subtract(y_originalb1,ypredb1)).mean()"
   ]
  },
  {
   "cell_type": "markdown",
   "id": "6e347fc1-673c-4d13-a3dd-1b6b667aba0d",
   "metadata": {},
   "source": [
    "## 4 Hidden nodes over 2 layers with 2 hidden nodes in each layer "
   ]
  },
  {
   "cell_type": "code",
   "execution_count": 37,
   "id": "904797b1-91e0-4346-9d56-a5a9315c436f",
   "metadata": {},
   "outputs": [
    {
     "name": "stdout",
     "output_type": "stream",
     "text": [
      "0 110.47624206542969\n",
      "10000 1.440015196800232\n",
      "20000 1.2820998430252075\n",
      "30000 1.1959565877914429\n",
      "40000 1.1155965328216553\n",
      "50000 1.0203933715820312\n",
      "60000 0.9107332825660706\n",
      "70000 0.7960367202758789\n",
      "80000 0.6921255588531494\n",
      "90000 0.6047411561012268\n"
     ]
    }
   ],
   "source": [
    "# train the model\n",
    "H2 = 2    # two hidden nodes \n",
    "D_in2 = x_half.size()[1]\n",
    "D_out2 = 1\n",
    "modelb2 = torch.nn.Sequential(\n",
    "    torch.nn.Linear(D_in2, H2),\n",
    "    torch.nn.ReLU(),\n",
    "    torch.nn.Linear(H2, H2),            # two hidden layer\n",
    "    torch.nn.ReLU(),\n",
    "    torch.nn.Linear(H2, D_out2),\n",
    ")\n",
    "\n",
    "loss_fn = torch.nn.MSELoss(reduction='mean')\n",
    "\n",
    "optimizer = torch.optim.SGD(modelb2.parameters(), lr=1e-3)\n",
    "\n",
    "for t in range(100000):\n",
    "    y_pred2 = modelb2(x_half)\n",
    "    \n",
    "    loss = loss_fn(y_pred2, y_half)\n",
    "    if t % 10000 == 0:\n",
    "        # print(t, loss.item()/n)\n",
    "        print(t, loss.item())\n",
    "    \n",
    "    optimizer.zero_grad()\n",
    "    \n",
    "    loss.backward()\n",
    "    \n",
    "    optimizer.step()\n",
    "\n",
    "\n"
   ]
  },
  {
   "cell_type": "code",
   "execution_count": 38,
   "id": "56d1f624-c9fb-4eda-9bec-6f06a5cfb698",
   "metadata": {},
   "outputs": [],
   "source": [
    "# test the model\n",
    "ypredb2 = modelb2(x_testb).detach().numpy().reshape(-1)   # y_originalb2 is the outcome and ypredb2 is the predicted outcome (on the scale of log y)\n",
    "y_originalb2 = y_testb.detach().numpy().reshape(-1)"
   ]
  },
  {
   "cell_type": "code",
   "execution_count": 39,
   "id": "0d4439ba-0220-45e5-8c6b-37895e1a740b",
   "metadata": {},
   "outputs": [
    {
     "name": "stderr",
     "output_type": "stream",
     "text": [
      "/opt/tljh/user/lib/python3.9/site-packages/seaborn/_decorators.py:36: FutureWarning: Pass the following variables as keyword args: x, y. From version 0.12, the only valid positional argument will be `data`, and passing other arguments without an explicit keyword will result in an error or misinterpretation.\n",
      "  warnings.warn(\n"
     ]
    },
    {
     "data": {
      "text/plain": [
       "<AxesSubplot:>"
      ]
     },
     "execution_count": 39,
     "metadata": {},
     "output_type": "execute_result"
    },
    {
     "data": {
      "image/png": "[encoded data removed]",
      "text/plain": [
       "<Figure size 432x288 with 1 Axes>"
      ]
     },
     "metadata": {},
     "output_type": "display_data"
    }
   ],
   "source": [
    "sns.scatterplot(ypredb2,y_originalb2)"
   ]
  },
  {
   "cell_type": "code",
   "execution_count": 40,
   "id": "1c92fb83-1a1b-44f2-a082-97a38927df9f",
   "metadata": {},
   "outputs": [
    {
     "data": {
      "text/plain": [
       "Text(0, 0.5, 'Forecasting Error')"
      ]
     },
     "execution_count": 40,
     "metadata": {},
     "output_type": "execute_result"
    },
    {
     "data": {
      "image/png": "[encoded data removed]",
      "text/plain": [
       "<Figure size 432x288 with 1 Axes>"
      ]
     },
     "metadata": {},
     "output_type": "display_data"
    }
   ],
   "source": [
    "plt.plot(df2['days'],y_originalb2-ypredb2)  # y_originalb2 is the outcome and ypredb2 is the predicted outcome (on the scale of log y)\n",
    "plt.xlabel('Day')\n",
    "plt.ylabel('Forecasting Error')"
   ]
  },
  {
   "cell_type": "code",
   "execution_count": 41,
   "id": "db483baa-6b3d-487d-bce8-42b5b2738faa",
   "metadata": {},
   "outputs": [
    {
     "data": {
      "text/plain": [
       "1.3438625"
      ]
     },
     "execution_count": 41,
     "metadata": {},
     "output_type": "execute_result"
    }
   ],
   "source": [
    "np.square(np.subtract(y_originalb2,ypredb2)).mean()"
   ]
  },
  {
   "cell_type": "markdown",
   "id": "d16e016c-47f2-4559-8bc4-21f39290a90b",
   "metadata": {},
   "source": [
    "## Regression using Pytorch"
   ]
  },
  {
   "cell_type": "code",
   "execution_count": 49,
   "id": "f0077cff-cd90-44e6-a398-b8515a70da2f",
   "metadata": {},
   "outputs": [
    {
     "name": "stdout",
     "output_type": "stream",
     "text": [
      "0 98.67102813720703\n",
      "10000 1.7212870121002197\n",
      "20000 1.5940696001052856\n",
      "30000 1.544020652770996\n",
      "40000 1.5169875621795654\n",
      "50000 1.4996953010559082\n",
      "60000 1.4872303009033203\n",
      "70000 1.4774290323257446\n",
      "80000 1.4692705869674683\n",
      "90000 1.462234377861023\n"
     ]
    }
   ],
   "source": [
    "# train the model\n",
    "D_in2 = x_half.size()[1]\n",
    "D_out2 = 1\n",
    "modelr2 = torch.nn.Sequential(\n",
    "    torch.nn.Linear(D_in2, D_out2),\n",
    ")\n",
    "\n",
    "loss_fn = torch.nn.MSELoss(reduction='mean')\n",
    "\n",
    "optimizer = torch.optim.SGD(modelr2.parameters(), lr=1e-3)\n",
    "\n",
    "for t in range(100000):\n",
    "    y_pred2 = modelr2(x_half)\n",
    "    \n",
    "    loss = loss_fn(y_pred2, y_half)\n",
    "    if t % 10000 == 0:\n",
    "        # print(t, loss.item()/n)\n",
    "        print(t, loss.item())\n",
    "    \n",
    "    optimizer.zero_grad()\n",
    "    \n",
    "    loss.backward()\n",
    "    \n",
    "    optimizer.step()\n",
    "\n",
    "\n",
    "\n"
   ]
  },
  {
   "cell_type": "code",
   "execution_count": 50,
   "id": "c71bc04f-dd88-4aad-94c4-6d124ebcba7a",
   "metadata": {},
   "outputs": [],
   "source": [
    "# test the model\n",
    "ypredr2 = modelr2(x_testb).detach().numpy().reshape(-1)   # y_originalb2 is the outcome and ypredb2 is the predicted outcome (on the scale of log y)\n",
    "y_originalr2 = y_testb.detach().numpy().reshape(-1)"
   ]
  },
  {
   "cell_type": "code",
   "execution_count": 51,
   "id": "7157961b-4a72-4035-b6ea-5ac33208034a",
   "metadata": {},
   "outputs": [
    {
     "data": {
      "text/plain": [
       "Text(0, 0.5, 'Forecasting Error')"
      ]
     },
     "execution_count": 51,
     "metadata": {},
     "output_type": "execute_result"
    },
    {
     "data": {
      "image/png": "[encoded data removed]",
      "text/plain": [
       "<Figure size 432x288 with 1 Axes>"
      ]
     },
     "metadata": {},
     "output_type": "display_data"
    }
   ],
   "source": [
    "plt.plot(df2['days'],y_originalr2-ypredr2)  # y_originalb2 is the outcome and ypredb2 is the predicted outcome (on the scale of log y)\n",
    "plt.xlabel('Day')\n",
    "plt.ylabel('Forecasting Error')"
   ]
  },
  {
   "cell_type": "markdown",
   "id": "e2926c17-a97e-4698-917b-4f5c094803e5",
   "metadata": {},
   "source": [
    "# Error rate comparison"
   ]
  },
  {
   "cell_type": "code",
   "execution_count": 58,
   "id": "94631e94-f74d-4d4b-b0ee-3bf643b3394a",
   "metadata": {},
   "outputs": [],
   "source": [
    "# Part A error rate (MSE)\n",
    "pah1 = np.square(np.subtract(y_original,ytest)).mean()\n",
    "pah2 = np.square(np.subtract(y_original2,ytest2)).mean()\n",
    "palr = np.square(np.subtract(y_originalr1,ytestr1)).mean()\n",
    "\n",
    "# Part B error rate (MSE)\n",
    "pbh1 = np.square(np.subtract(y_originalb1,ypredb1)).mean()\n",
    "pbh2 = np.square(np.subtract(y_originalb2,ypredb2)).mean()\n",
    "pblr = np.square(np.subtract(y_originalr2,ypredr2)).mean()"
   ]
  },
  {
   "cell_type": "code",
   "execution_count": 59,
   "id": "215404c7-a785-4763-b011-d7b32cdbb863",
   "metadata": {},
   "outputs": [
    {
     "data": {
      "text/html": [
       "<div>\n",
       "<style scoped>\n",
       "    .dataframe tbody tr th:only-of-type {\n",
       "        vertical-align: middle;\n",
       "    }\n",
       "\n",
       "    .dataframe tbody tr th {\n",
       "        vertical-align: top;\n",
       "    }\n",
       "\n",
       "    .dataframe thead th {\n",
       "        text-align: right;\n",
       "    }\n",
       "</style>\n",
       "<table border=\"1\" class=\"dataframe\">\n",
       "  <thead>\n",
       "    <tr style=\"text-align: right;\">\n",
       "      <th></th>\n",
       "      <th>Model</th>\n",
       "      <th>Error rate(MSE)</th>\n",
       "    </tr>\n",
       "  </thead>\n",
       "  <tbody>\n",
       "    <tr>\n",
       "      <th>0</th>\n",
       "      <td>PartA 1 hidden Layer</td>\n",
       "      <td>89.004776</td>\n",
       "    </tr>\n",
       "    <tr>\n",
       "      <th>1</th>\n",
       "      <td>PartA 2 hidden Layers</td>\n",
       "      <td>0.747935</td>\n",
       "    </tr>\n",
       "    <tr>\n",
       "      <th>2</th>\n",
       "      <td>PartA Regression</td>\n",
       "      <td>62.221050</td>\n",
       "    </tr>\n",
       "    <tr>\n",
       "      <th>3</th>\n",
       "      <td>PartB 1 hidden Layer</td>\n",
       "      <td>84.515694</td>\n",
       "    </tr>\n",
       "    <tr>\n",
       "      <th>4</th>\n",
       "      <td>PartB 2 hidden Layers</td>\n",
       "      <td>1.343863</td>\n",
       "    </tr>\n",
       "    <tr>\n",
       "      <th>5</th>\n",
       "      <td>PartB Regression</td>\n",
       "      <td>1.826855</td>\n",
       "    </tr>\n",
       "  </tbody>\n",
       "</table>\n",
       "</div>"
      ],
      "text/plain": [
       "                   Model  Error rate(MSE)\n",
       "0   PartA 1 hidden Layer        89.004776\n",
       "1  PartA 2 hidden Layers         0.747935\n",
       "2       PartA Regression        62.221050\n",
       "3   PartB 1 hidden Layer        84.515694\n",
       "4  PartB 2 hidden Layers         1.343863\n",
       "5       PartB Regression         1.826855"
      ]
     },
     "execution_count": 59,
     "metadata": {},
     "output_type": "execute_result"
    }
   ],
   "source": [
    "error = {'Model':['PartA 1 hidden Layer', 'PartA 2 hidden Layers', 'PartA Regression', 'PartB 1 hidden Layer',\n",
    "                  'PartB 2 hidden Layers', 'PartB Regression'],\n",
    "         'Error rate(MSE)':[pah1,pah2,palr,pbh1,pbh2,pblr]}\n",
    "error_df = pd.DataFrame(error)\n",
    "error_df"
   ]
  },
  {
   "cell_type": "markdown",
   "id": "40716b2f-2dd3-41b5-a212-92cd4e12d95e",
   "metadata": {},
   "source": [
    "As we can see that with more hidden layers, the error becomes smaller. Regression may have larger errors when comparing with neural networks with more hidden layers."
   ]
  },
  {
   "cell_type": "code",
   "execution_count": null,
   "id": "1eaad6ee-2df8-4228-a5c7-5b899781f1f8",
   "metadata": {},
   "outputs": [],
   "source": []
  }
 ],
 "metadata": {
  "kernelspec": {
   "display_name": "Python 3 (ipykernel)",
   "language": "python",
   "name": "python3"
  },
  "language_info": {
   "codemirror_mode": {
    "name": "ipython",
    "version": 3
   },
   "file_extension": ".py",
   "mimetype": "text/x-python",
   "name": "python",
   "nbconvert_exporter": "python",
   "pygments_lexer": "ipython3",
   "version": "3.9.7"
  }
 },
 "nbformat": 4,
 "nbformat_minor": 5
}
